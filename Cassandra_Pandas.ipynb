{
  "nbformat": 4,
  "nbformat_minor": 0,
  "metadata": {
    "colab": {
      "name": "Cassandra_Pandas.ipynb",
      "provenance": [],
      "authorship_tag": "ABX9TyM36aNIBjRiOFljEVGqvDXN"
    },
    "kernelspec": {
      "name": "python3",
      "display_name": "Python 3"
    }
  },
  "cells": [
    {
      "cell_type": "code",
      "metadata": {
        "colab": {
          "base_uri": "https://localhost:8080/"
        },
        "id": "UAgED9iaAORN",
        "outputId": "5dada5f1-b8f2-48c1-fb39-24abbbf3facf"
      },
      "source": [
        "!pip install sshtunnel cassandra-driver\n",
        "\n",
        "#https://medium.com/@amirziai/query-your-database-over-an-ssh-tunnel-with-pandas-603ce49b35a1\n",
        "#https://medium.com/@upu1994/connect-to-cassandra-with-python-3-x-and-get-pandas-dataframe-81adbf1a09a9\n",
        "#https://blog.ruanbekker.com/blog/2018/04/23/setup-a-ssh-tunnel-with-the-sshtunnel-module-in-python/"
      ],
      "execution_count": null,
      "outputs": [
        {
          "output_type": "stream",
          "text": [
            "Requirement already satisfied: sshtunnel in /usr/local/lib/python3.7/dist-packages (0.4.0)\n",
            "Requirement already satisfied: cassandra-driver in /usr/local/lib/python3.7/dist-packages (3.24.0)\n",
            "Requirement already satisfied: paramiko>=2.7.2 in /usr/local/lib/python3.7/dist-packages (from sshtunnel) (2.7.2)\n",
            "Requirement already satisfied: six>=1.9 in /usr/local/lib/python3.7/dist-packages (from cassandra-driver) (1.15.0)\n",
            "Requirement already satisfied: geomet<0.3,>=0.1 in /usr/local/lib/python3.7/dist-packages (from cassandra-driver) (0.2.1.post1)\n",
            "Requirement already satisfied: pynacl>=1.0.1 in /usr/local/lib/python3.7/dist-packages (from paramiko>=2.7.2->sshtunnel) (1.4.0)\n",
            "Requirement already satisfied: cryptography>=2.5 in /usr/local/lib/python3.7/dist-packages (from paramiko>=2.7.2->sshtunnel) (3.4.6)\n",
            "Requirement already satisfied: bcrypt>=3.1.3 in /usr/local/lib/python3.7/dist-packages (from paramiko>=2.7.2->sshtunnel) (3.2.0)\n",
            "Requirement already satisfied: click in /usr/local/lib/python3.7/dist-packages (from geomet<0.3,>=0.1->cassandra-driver) (7.1.2)\n",
            "Requirement already satisfied: cffi>=1.4.1 in /usr/local/lib/python3.7/dist-packages (from pynacl>=1.0.1->paramiko>=2.7.2->sshtunnel) (1.14.5)\n",
            "Requirement already satisfied: pycparser in /usr/local/lib/python3.7/dist-packages (from cffi>=1.4.1->pynacl>=1.0.1->paramiko>=2.7.2->sshtunnel) (2.20)\n"
          ],
          "name": "stdout"
        }
      ]
    },
    {
      "cell_type": "code",
      "metadata": {
        "colab": {
          "base_uri": "https://localhost:8080/"
        },
        "id": "8c-ikhiu_GX5",
        "outputId": "49f6356b-b546-41f0-9c04-ab330bead7f6"
      },
      "source": [
        "from sshtunnel import SSHTunnelForwarder\n",
        "\n",
        "#ssh config\n",
        "host = '********.sa-east-1.compute.amazonaws.com'\n",
        "ssh_username = 'ubuntu'\n",
        "ssh_private_key = 'cassandra.pem'\n",
        "local_host = '127.0.0.1'\n",
        "local_port = 9042\n",
        "\n",
        "server = SSHTunnelForwarder(\n",
        "          (host, 22),\n",
        "          ssh_username=ssh_username,\n",
        "          ssh_private_key=ssh_private_key,\n",
        "          remote_bind_address=(local_host, local_port),\n",
        "          local_bind_address=(local_host, local_port))\n",
        "server.start()\n",
        "server"
      ],
      "execution_count": null,
      "outputs": [
        {
          "output_type": "execute_result",
          "data": {
            "text/plain": [
              "<class 'sshtunnel.SSHTunnelForwarder'> object\n",
              "ssh gateway: ec2-18-230-45-203.sa-east-1.compute.amazonaws.com:22\n",
              "proxy: no\n",
              "username: ubuntu\n",
              "authentication: {'pkeys': [('ssh-rsa', b'71fc0486a53912f3d38d7ac484ba485e')]}\n",
              "hostkey: not checked\n",
              "status: started\n",
              "keepalive messages: every 5.0 sec\n",
              "tunnel connection check: disabled\n",
              "concurrent connections: allowed\n",
              "compression: not requested\n",
              "logging level: ERROR\n",
              "local binds: [('127.0.0.1', 9042)]\n",
              "remote binds: [('127.0.0.1', 9042)]"
            ]
          },
          "metadata": {
            "tags": []
          },
          "execution_count": 52
        }
      ]
    },
    {
      "cell_type": "code",
      "metadata": {
        "id": "ISVOAaRfAH-g"
      },
      "source": [
        "from cassandra.cluster import Cluster \n",
        "from cassandra.auth import PlainTextAuthProvider \n",
        "import pandas as pd \n",
        "\n",
        "class ConnDao(object):\n",
        "      def __init__(self):\n",
        "         self.cluster = None\n",
        "         self.username = 'admin'\n",
        "         self.password = ''\n",
        "         self.host = '127.0.0.1'\n",
        "         self.keyspace = 'keyspace_name'\n",
        "         self.session = self.createSession()\n",
        "\n",
        "      def __del__(self):\n",
        "         self.cluster.shutdown()\n",
        "\n",
        "      def createSession(self):\n",
        "         self.cluster = Cluster([self.host],                                            auth_provider=PlainTextAuthProvider(username=self.username, password=self.password))         \n",
        "         self.session = self.cluster.connect(self.keyspace)         \n",
        "         return self.session       \n",
        "      \n",
        "      def getSession(self):\n",
        "         return self.session\n",
        "\n",
        "      def get_data(self):\n",
        "         query = \"\"\"SELECT * from  %s.teste\"\"\" %self.keyspace         \n",
        "         data = pd.DataFrame(self.getSession().execute(query, timeout=None))         \n",
        "         return data"
      ],
      "execution_count": null,
      "outputs": []
    },
    {
      "cell_type": "code",
      "metadata": {
        "id": "D5oCFk-PA6PZ"
      },
      "source": [
        "conexao = ConnDao()\n",
        "data = conexao.get_data()"
      ],
      "execution_count": null,
      "outputs": []
    },
    {
      "cell_type": "code",
      "metadata": {
        "id": "GJ_zEs_8CCWD"
      },
      "source": [
        "data.head()"
      ],
      "execution_count": null,
      "outputs": []
    },
    {
      "cell_type": "code",
      "metadata": {
        "id": "SRgORzvwCS-v"
      },
      "source": [
        ""
      ],
      "execution_count": null,
      "outputs": []
    }
  ]
}